{
 "cells": [
  {
   "cell_type": "code",
   "execution_count": 1,
   "metadata": {},
   "outputs": [
    {
     "name": "stdout",
     "output_type": "stream",
     "text": [
      "CRA ATUAL: 6.06\n",
      "\n",
      "Digite o seu Período Anterior: 2019.2\n",
      "Horas concluídas até 2019.2: 2895\n",
      "\n",
      "Digite seu Período atual: 2020.1\n",
      "Carga horária matriculada em 2020.1: 180\n",
      "\n",
      "Quantidade de disciplinas matriculadas no período atual: 3\n",
      "\n",
      "Nota da disciplina 1: 5.5\n",
      "Carga horária da disciplina 1, em horas: 60\n",
      "\n",
      "Nota da disciplina 2: 9.1\n",
      "Carga horária da disciplina 2, em horas: 60\n",
      "\n",
      "Nota da disciplina 3: 9\n",
      "Carga horária da disciplina 3, em horas: 60\n",
      "\n",
      "\n",
      "CRA: 6.165756097560974\n"
     ]
    }
   ],
   "source": [
    "#Calculo de CRA\n",
    "\n",
    "CRAtual = float(input(\"CRA ATUAL: \")) #Recebe CRA atual\n",
    "\n",
    "PeriodoAnterior = float(input(\"\\nDigite o seu Período Anterior: \")) \n",
    "CargaHorariaCursada = int(input(\"Horas concluídas até {}: \".format(PeriodoAnterior)))\n",
    "\n",
    "PeriodoAtual = float(input(\"\\nDigite seu Período atual: \"))\n",
    "CargaHatual = float(input(\"Carga horária matriculada em {}: \".format(PeriodoAtual)))\n",
    "\n",
    "CargaAnteriorXCRAtual = CRAtual*CargaHorariaCursada\n",
    "\n",
    "TotalDisciplinas = int(input(\"\\nQuantidade de disciplinas matriculadas no período atual: \"))\n",
    "\n",
    "ListaNotasXCargas = []     #Lista que vai armazenar as multiplicações Nota x Carga horária\n",
    "\n",
    "for x in range(0, TotalDisciplinas):\n",
    "    Nota = float(input(\"\\nMédia da disciplina {}: \".format(x+1)))  #Recebe a média na disciplina\n",
    "    CargaH = float(input(\"Carga horária da disciplina {}, em horas: \".format(x+1))) #recebe a carga horária da disciplina\n",
    "    NotaXCarga = Nota * CargaH #Variável que armazena a multiplicação Nota x Carga da iteração atual\n",
    "    ListaNotasXCargas.append(NotaXCarga) #A cada iteração a lista armazena o resultado de uma multiplicação Nota X Carga\n",
    "        \n",
    "#print(ListaNotasXCargas)\n",
    "SomaNotasxCargas = sum(ListaNotasXCargas) #Armazena a soma de ListaNotasXCargas na variavel SomaNotasxCargas\n",
    "#print(SomaNotasxCargas)\n",
    "\n",
    "a = SomaNotasxCargas + CargaAnteriorXCRAtual\n",
    "b = CargaHatual + CargaHorariaCursada\n",
    "\n",
    "CRA = a/b\n",
    "\n",
    "print(\"\\n\\nCRA: {}\".format(CRA))\n"
   ]
  },
  {
   "cell_type": "code",
   "execution_count": null,
   "metadata": {},
   "outputs": [],
   "source": []
  }
 ],
 "metadata": {
  "kernelspec": {
   "display_name": "Python 3",
   "language": "python",
   "name": "python3"
  },
  "language_info": {
   "codemirror_mode": {
    "name": "ipython",
    "version": 3
   },
   "file_extension": ".py",
   "mimetype": "text/x-python",
   "name": "python",
   "nbconvert_exporter": "python",
   "pygments_lexer": "ipython3",
   "version": "3.9.0"
  }
 },
 "nbformat": 4,
 "nbformat_minor": 2
}
